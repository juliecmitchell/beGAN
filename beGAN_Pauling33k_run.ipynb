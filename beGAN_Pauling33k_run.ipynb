{
 "cells": [
  {
   "cell_type": "code",
   "execution_count": 52,
   "metadata": {},
   "outputs": [],
   "source": [
    "import torch\n",
    "import torchvision\n",
    "import torchvision.transforms as transforms\n",
    "import torch.optim as optim\n",
    "import numpy as np\n",
    "import seaborn as sns\n",
    "import pandas as pd\n",
    "import matplotlib.pyplot as plt\n",
    "from torch import nn, optim\n",
    "from torch.autograd.variable import Variable\n",
    "from torchvision import transforms, datasets\n",
    "import torchvision.models as models \n",
    "from data_treatment import DataSet, DataAtts\n",
    "from discriminator import *\n",
    "from generator import *\n",
    "import ipywidgets as widgets\n",
    "from IPython.display import display\n",
    "import matplotlib.pyplot as plt\n",
    "import matplotlib.animation as animation\n",
    "import glob\n",
    "import os\n",
    "from itertools import cycle\n",
    "from numpy import genfromtxt\n",
    "from sklearn import svm, datasets\n",
    "from sklearn.metrics import roc_curve, auc\n",
    "from sklearn.model_selection import train_test_split\n",
    "from sklearn.preprocessing import label_binarize\n",
    "from sklearn.multiclass import OneVsRestClassifier\n",
    "from scipy import interp\n",
    "from sklearn.linear_model import LogisticRegression\n",
    "from sklearn import metrics\n",
    "from sklearn.neighbors import KNeighborsClassifier\n",
    "from sklearn.ensemble import RandomForestRegressor\n",
    "from sklearn.neural_network import MLPClassifier\n",
    "from sklearn.preprocessing import StandardScaler\n",
    "from sklearn.metrics import classification_report, confusion_matrix, accuracy_score\n",
    "from sklearn.multioutput import MultiOutputRegressor\n",
    "from torch.autograd import Variable\n",
    "import time\n",
    "import os"
   ]
  },
  {
   "cell_type": "markdown",
   "metadata": {},
   "source": [
    "# Load 16-mer Model\n"
   ]
  },
  {
   "cell_type": "code",
   "execution_count": 53,
   "metadata": {},
   "outputs": [
    {
     "data": {
      "text/plain": [
       "GeneratorNet(\n",
       "  (hidden_0): Sequential(\n",
       "    (0): Linear(in_features=100, out_features=256, bias=True)\n",
       "    (1): LeakyReLU(negative_slope=0.2)\n",
       "  )\n",
       "  (hidden_1): Sequential(\n",
       "    (0): Linear(in_features=256, out_features=512, bias=True)\n",
       "    (1): LeakyReLU(negative_slope=0.2)\n",
       "  )\n",
       "  (hidden_2): Sequential(\n",
       "    (0): Linear(in_features=512, out_features=1024, bias=True)\n",
       "    (1): LeakyReLU(negative_slope=0.2)\n",
       "  )\n",
       "  (out): Sequential(\n",
       "    (0): Linear(in_features=1024, out_features=192, bias=True)\n",
       "  )\n",
       ")"
      ]
     },
     "execution_count": 53,
     "metadata": {},
     "output_type": "execute_result"
    }
   ],
   "source": [
    "discriminator = DiscriminatorNet(192) #number of features = number of residues * 12\n",
    "checkpoint = torch.load('16mer_models/discriminator.pt') #load trained discriminatornet\n",
    "discriminator.load_state_dict(checkpoint['model_state_dict'])\n",
    "discriminator.eval() \n",
    "\n",
    "generator = GeneratorNet(192)\n",
    "checkpoint = torch.load('16mer_models/generatorpeptide.pt') #load trained generatornet\n",
    "generator.load_state_dict(checkpoint['model_state_dict'])\n",
    "generator.eval()"
   ]
  },
  {
   "cell_type": "code",
   "execution_count": 61,
   "metadata": {},
   "outputs": [],
   "source": [
    "# Noise\n",
    "def noise(size):\n",
    "    n = Variable(torch.randn(size, 100))\n",
    "    if torch.cuda.is_available(): \n",
    "        return n.cuda() \n",
    "    return n\n",
    "\n",
    "# Start with random seeds\n",
    "newdata = generator(noise(200)).detach().cpu().numpy()\n",
    "\n",
    "\n",
    "# Set some parameter values\n",
    "\n",
    "AAlist=['A', 'C', 'D', 'E', 'F', 'G', 'H', 'I', 'K', 'L', 'M', 'N', 'P', 'Q', 'R', 'S', 'T', 'V', 'W', 'Y']\n",
    "\n",
    "HydrophobicityValues=[0.61, 1.07, 0.46, 0.47, 2.02, 0.07, 0.61, 2.22, 1.15, 1.53, 1.18, 0.06, 1.95, 0.0, 0.6, 0.05, 0.05, 1.32, 2.65, 1.88]\n",
    "Alpha_CH_Chem_ShiftValues=[4.35, 4.65, 4.76, 4.29, 4.66, 3.97, 4.63, 3.95, 4.36, 4.17, 4.52, 4.75, 4.44, 4.37, 4.38, 4.5, 4.35, 3.95, 4.7, 4.6]\n",
    "Conf_Par_of_Beta_StructureValues = [0.77, 0.65, 0.65, 0.55, 0.98, 0.65, 0.83, 0.98, 0.55, 0.83, 0.98, 0.55, 0.55, 0.72, 0.72, 0.55, 0.83, 0.98, 0.77, 0.83]\n",
    "Conf_Par_of_Inner_HelixValues=[1.0, 0.06, 0.44, 0.73, 0.6, 0.35, 0.6, 0.73, 0.6, 1.0, 1.0, 0.35, 0.06, 0.44, 0.52, 0.35, 0.44, 0.82, 0.73, 0.44]\n",
    "Conf_Par_of_Beta_TurnValues=[0.37, 0.84, 0.97, 0.53, 0.53, 0.97, 0.75, 0.37, 0.75, 0.53, 0.64, 0.97, 0.97, 0.64, 0.84, 0.84, 0.75, 0.37, 0.97, 0.84]\n",
    "Residue_VolumeValues=[52.6, 68.3, 68.4, 84.7, 113.9, 36.3, 91.9, 102.0, 105.1, 102.0, 97.7, 75.7, 73.6, 89.7, 109.1, 54.9, 71.2, 85.1, 135.4, 116.2]\n",
    "Steri_ParValues=[0.52, 0.62, 0.76, 0.68, 0.7, 0.0, 0.7, 1.02, 0.68, 0.98, 0.78, 0.76, 0.36, 0.68, 0.68, 0.53, 0.5, 0.76, 0.7, 0.7]\n",
    "Norm_Freq_of_Beta_Turn_aValues=[0.66, 1.19, 1.46, 0.74, 0.6, 1.56, 0.95, 0.47, 1.01, 0.59, 0.6, 1.56, 1.52, 0.98, 0.95, 1.43, 0.96, 0.5, 0.96, 1.14]\n",
    "Norm_Freq_of_Alpha_Helix_aValues=[1.42, 0.7, 1.01, 1.51, 1.13, 0.57, 1.0, 1.08, 1.16, 1.21, 1.45, 0.67, 0.57, 1.11, 0.98, 0.77, 0.83, 1.06, 1.08, 0.69]\n",
    "Norm_Freq_of_Beta_SheetValues=[0.83, 1.19, 0.54, 0.37, 1.38, 0.75, 0.87, 1.6, 0.74, 1.3, 1.05, 0.89, 0.55, 1.1, 0.93, 0.75, 1.19, 1.7, 1.37, 1.47]\n",
    "Beta_Strand_IndicesValues=[0.84, 1.27, 0.59, 0.57, 1.15, 0.94, 0.81, 1.29, 0.86, 1.1, 0.88, 0.66, 0.8, 1.02, 1.04, 1.05, 1.2, 1.56, 1.15, 1.39]\n",
    "Alpha_Helix_IndicesValues=[1.29, 0.79, 1.1, 1.49, 1.13, 0.63, 1.33, 1.05, 1.33, 1.31, 1.54, 0.81, 0.63, 1.07, 1.0, 0.78, 0.77, 0.81, 1.18, 0.71]\n",
    "\n",
    "\n",
    "# find the closest amino acid in parameter space using scaled L1 norm\n",
    "def closestAA(i,k): \n",
    "\n",
    "    d1min = 10000.0;\n",
    "    \n",
    "    for j in range(0,20): # loop over 20 amino acids\n",
    "\n",
    "        # distance function is a scaled L1 norm\n",
    "        \n",
    "        d1 = 0.0\n",
    "        d1 = abs(HydrophobicityValues[j]-newdata[i,12*k])/(max(HydrophobicityValues)-min(HydrophobicityValues))\n",
    "        d1 = d1+abs(Alpha_CH_Chem_ShiftValues[j]-newdata[i,12*k+1])/(max(Alpha_CH_Chem_ShiftValues)-min(Alpha_CH_Chem_ShiftValues))\n",
    "        d1 = d1+abs(Conf_Par_of_Beta_StructureValues[j]-newdata[i,12*k+2])/(max(Conf_Par_of_Beta_StructureValues)-min(Conf_Par_of_Beta_StructureValues))\n",
    "        d1 = d1+abs(Conf_Par_of_Inner_HelixValues[j]-newdata[i,12*k+3])/(max(Conf_Par_of_Inner_HelixValues)-min(Conf_Par_of_Inner_HelixValues))\n",
    "        d1 = d1+abs(Conf_Par_of_Beta_TurnValues[j]-newdata[i,12*k+4])/(max(Conf_Par_of_Beta_TurnValues)-min(Conf_Par_of_Beta_TurnValues))\n",
    "        d1 = d1+abs(Residue_VolumeValues[j]-newdata[i,12*k+5])/(max(Residue_VolumeValues)-min(Residue_VolumeValues))\n",
    "        d1 = d1+abs(Steri_ParValues[j]-newdata[i,12*k+6])/(max(Steri_ParValues)-min(Steri_ParValues))\n",
    "        d1 = d1+abs(Norm_Freq_of_Beta_Turn_aValues[j]-newdata[i,12*k+7])/(max(Norm_Freq_of_Beta_Turn_aValues)-min(Norm_Freq_of_Beta_Turn_aValues))\n",
    "        d1 = d1+abs(Norm_Freq_of_Alpha_Helix_aValues[j]-newdata[i,12*k+8])/(max(Norm_Freq_of_Alpha_Helix_aValues)-min(Norm_Freq_of_Alpha_Helix_aValues))\n",
    "        d1 = d1+abs(Norm_Freq_of_Beta_SheetValues[j]-newdata[i,12*k+9])/(max(Norm_Freq_of_Beta_SheetValues)-min(Norm_Freq_of_Beta_SheetValues))\n",
    "        d1 = d1+abs(Beta_Strand_IndicesValues[j]-newdata[i,12*k+10])/(max(Beta_Strand_IndicesValues)-min(Beta_Strand_IndicesValues))\n",
    "        d1 = d1+abs(Alpha_Helix_IndicesValues[j]-newdata[i,12*k+11])/(max(Alpha_Helix_IndicesValues)-min(Alpha_Helix_IndicesValues))\n",
    "            \n",
    "        if d1 < d1min:\n",
    "            d1min = d1\n",
    "            indmin = j\n",
    "    \n",
    "    return indmin\n",
    "\n",
    "# convert a feature vector to its \"closest\" sequence\n",
    "def feature2sequence(ind,featurevector):\n",
    "    sequence = \"                 \"\n",
    "    list1 = list(sequence)\n",
    "    # loop over peptide residue length\n",
    "    for k in range(0,16):\n",
    "        indmin = closestAA(ind,k)\n",
    "        list1[k] = AAlist[indmin]\n",
    "    sequence = ''.join(list1)\n",
    "    #print(sequence)\n",
    "    return sequence\n",
    "\n",
    "\n",
    "\n"
   ]
  },
  {
   "cell_type": "code",
   "execution_count": 62,
   "metadata": {},
   "outputs": [],
   "source": [
    "# normalize the feature data to correspond to a real AA sequence\n",
    "\n",
    "for i in range(0,len(newdata[:,1])):  \n",
    "        \n",
    "    for k in range(0,16): # number of residues in peptide\n",
    "\n",
    "\n",
    "        indmin = closestAA(i,k)\n",
    "        \n",
    "        # reassign descriptor values to correspond to a real sequence\n",
    "        \n",
    "        newdata[i,12*k] =   HydrophobicityValues[indmin]     \n",
    "        newdata[i,12*k+1] = Alpha_CH_Chem_ShiftValues[indmin] \n",
    "        newdata[i,12*k+2] = Conf_Par_of_Beta_StructureValues[indmin]\n",
    "        newdata[i,12*k+3] = Conf_Par_of_Inner_HelixValues[indmin]\n",
    "        newdata[i,12*k+4] = Conf_Par_of_Beta_TurnValues[indmin]\n",
    "        newdata[i,12*k+5] = Residue_VolumeValues[indmin]\n",
    "        newdata[i,12*k+6] = Steri_ParValues[indmin]\n",
    "        newdata[i,12*k+7] = Norm_Freq_of_Beta_Turn_aValues[indmin]\n",
    "        newdata[i,12*k+8] = Norm_Freq_of_Alpha_Helix_aValues[indmin]\n",
    "        newdata[i,12*k+9] = Norm_Freq_of_Beta_SheetValues[indmin]\n",
    "        newdata[i,12*k+10] = Beta_Strand_IndicesValues[indmin]\n",
    "        newdata[i,12*k+11] = Alpha_Helix_IndicesValues[indmin]\n",
    "        \n",
    "        \n",
    "                                                                        "
   ]
  },
  {
   "cell_type": "markdown",
   "metadata": {},
   "source": [
    "# Classification with DCNet"
   ]
  },
  {
   "cell_type": "code",
   "execution_count": 63,
   "metadata": {},
   "outputs": [],
   "source": [
    "Xpep=np.array(newdata, dtype=np.float64)"
   ]
  },
  {
   "cell_type": "code",
   "execution_count": 64,
   "metadata": {},
   "outputs": [],
   "source": [
    "# Pass test data\n",
    "from torch.autograd import Variable\n",
    "XpepT = torch.FloatTensor(Xpep)\n",
    "Xpepy_hat_test = discriminator(XpepT)  \n",
    "Xpepy_hat_test_class = np.where(Xpepy_hat_test.detach().numpy()<0.5, 0, 1)"
   ]
  },
  {
   "cell_type": "code",
   "execution_count": 65,
   "metadata": {},
   "outputs": [],
   "source": [
    "Xpepy_hat_test_classContinuous=Xpepy_hat_test.detach().numpy()"
   ]
  },
  {
   "cell_type": "code",
   "execution_count": 66,
   "metadata": {},
   "outputs": [
    {
     "data": {
      "text/plain": [
       "200"
      ]
     },
     "execution_count": 66,
     "metadata": {},
     "output_type": "execute_result"
    }
   ],
   "source": [
    "len(Xpepy_hat_test_classContinuous)"
   ]
  },
  {
   "cell_type": "markdown",
   "metadata": {},
   "source": [
    "# Collect new Beta-hairpins "
   ]
  },
  {
   "cell_type": "code",
   "execution_count": 67,
   "metadata": {},
   "outputs": [
    {
     "name": "stdout",
     "output_type": "stream",
     "text": [
      "peptide1 DQIPIEFCGHKAIGTV  0.99427646\n",
      "peptide3 SLHTVTRGDRSILTQT  0.9873661\n",
      "peptide19 LLILAKREGHHVCLKT  0.9886381\n",
      "peptide20 KQIFLEFHGKKAFNYV  0.9596857\n",
      "peptide22 DQIPIEICGHKAIGTV  0.9939427\n",
      "peptide28 QRVFESSGGGFKTTTS  0.9776904\n",
      "peptide34 SVRIDEREGQKKYVLQ  0.99112695\n",
      "peptide40 ALFHAWDHGMSWVFWT  0.9574965\n",
      "peptide42 TQMHGNYNGMKFKVLG  0.9983505\n",
      "peptide46 IYKFGYQKGDLTYKVL  0.9528386\n",
      "peptide50 LRLEGAVNGDPFAIEG  0.9957035\n",
      "peptide53 HMIRITKGANIFARAG  0.96813613\n",
      "peptide56 CQECTTNWNNDCWYYD  0.9886897\n",
      "peptide61 VHMKGSVNGTEFEIEG  0.9942753\n",
      "peptide63 ELVILKIKGKKLISRV  0.9838726\n",
      "peptide67 YMVHAVCGSSFLLKSR  0.9806291\n",
      "peptide68 IDIHTVHEDGYEFQQK  0.9503599\n",
      "peptide77 MMCYAAWGGWWFSMKS  0.9860676\n",
      "peptide78 YFMFLQWEGEMVFLAW  0.986051\n",
      "peptide79 FFFHSLYDSHFYVIFS  0.9994106\n",
      "peptide85 VELHGDVNGHQFTVSG  0.9987471\n",
      "peptide93 VQLCQRQKGQPYELGK  0.95241994\n",
      "peptide94 VRLDGSVNGKHFSVTG  0.9994461\n",
      "peptide96 LCFFLNDDSGFFDGAL  0.9703447\n",
      "peptide104 DQIPFHIAGHKAIGTL  0.96973944\n",
      "peptide108 LYAWFDTPSGRFRLCM  0.9710036\n",
      "peptide111 HKIFIKFCGHKMIGRF  0.9750675\n",
      "peptide112 SIMQTMHAGMHYMLVT  0.98409826\n",
      "peptide114 GQRRYVVDGRTIGLKV  0.97877043\n",
      "peptide116 GIFLDFQESQRPLVKL  0.9642126\n",
      "peptide120 SIFFMHRKGADVYWYH  0.9885798\n",
      "peptide125 IYLFDIQDGWMTMDVI  0.98379505\n",
      "peptide127 FLFDSTVDGERIHFDL  0.9550327\n",
      "peptide128 FRMYAFEHGHWYLFGW  0.9735701\n",
      "peptide131 VFFQGVWKGQHYHNLK  0.9509013\n",
      "peptide137 SWYFMHKGDLKMIAFD  0.97604805\n",
      "peptide151 FACNDMCFDGDYYFYM  0.97131056\n",
      "peptide160 YRAQYEFNGLDLMWFD  0.9719821\n",
      "peptide161 AVMIEDFGDVMFIHVD  0.9580144\n",
      "peptide166 FKFQFVQAGTFYDLHG  0.9738305\n",
      "peptide177 VVLLQHQDGAHKMIKI  0.96980304\n",
      "peptide178 WMVMIWAGDHIMFQSR  0.9593559\n",
      "peptide181 SIAQFEYDGTRIMLYH  0.99488294\n",
      "peptide197 MYMEGMFNGWWFFWMS  0.99686074\n"
     ]
    }
   ],
   "source": [
    "filename = \"16mer_models/16mer_beta_hairpin_sequences.fasta\"\n",
    "file = open(filename, \"w\")\n",
    "\n",
    "for i in range(len(Xpep[:,1])):\n",
    "    peptideID='peptide'+str(i)\n",
    "    peptideSeq=feature2sequence(i,Xpep[i,:])\n",
    "    Xpepi=np.array(Xpep[i,:], dtype=np.float64)\n",
    "    XpepiT = torch.FloatTensor(Xpepi)\n",
    "    Xpepiy_hat_test = discriminator(XpepiT)\n",
    "    Xpepiy_hat_test_classContinuous=Xpepiy_hat_test.detach().numpy()\n",
    "    if Xpepiy_hat_test_classContinuous>=.95:\n",
    "        print(peptideID, peptideSeq, Xpepiy_hat_test_classContinuous[0])\n",
    "        file = open(filename, \"a\")    \n",
    "        file.write(\">\" + peptideID+ \"|\" + str(Xpepiy_hat_test_classContinuous[0]) + \"\\n\")\n",
    "        file.write(peptideSeq + \"\\n\")\n",
    "        "
   ]
  },
  {
   "cell_type": "code",
   "execution_count": null,
   "metadata": {},
   "outputs": [],
   "source": []
  }
 ],
 "metadata": {
  "kernelspec": {
   "display_name": "Python 3 (ipykernel)",
   "language": "python",
   "name": "python3"
  },
  "language_info": {
   "codemirror_mode": {
    "name": "ipython",
    "version": 3
   },
   "file_extension": ".py",
   "mimetype": "text/x-python",
   "name": "python",
   "nbconvert_exporter": "python",
   "pygments_lexer": "ipython3",
   "version": "3.9.13"
  }
 },
 "nbformat": 4,
 "nbformat_minor": 4
}
